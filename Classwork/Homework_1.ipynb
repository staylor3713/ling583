{
 "cells": [
  {
   "cell_type": "code",
   "execution_count": 1,
   "metadata": {},
   "outputs": [],
   "source": [
    "import pandas as pd\n",
    "import numpy as np\n",
    "import praw\n",
    "from cytoolz import first\n",
    "from collections import Counter\n",
    "\n",
    "pd.set_option('display.max_rows',50)"
   ]
  },
  {
   "cell_type": "code",
   "execution_count": 17,
   "metadata": {},
   "outputs": [],
   "source": [
    "reddit = praw.Reddit(client_id='kYnIGhVaIbi1Tg',\n",
    "                     client_secret='L6TPlqTQY_e0kVG3E2TpfggCKLQ',\n",
    "                     user_agent='text mining class')"
   ]
  },
  {
   "cell_type": "code",
   "execution_count": 18,
   "metadata": {},
   "outputs": [],
   "source": [
    "beauty = reddit.subreddit('DataIsBeautiful')"
   ]
  },
  {
   "cell_type": "code",
   "execution_count": 19,
   "metadata": {},
   "outputs": [
    {
     "data": {
      "text/plain": [
       "Submission(id='eunngt')"
      ]
     },
     "execution_count": 19,
     "metadata": {},
     "output_type": "execute_result"
    }
   ],
   "source": [
    "s = first(beauty.hot())\n",
    "s"
   ]
  },
  {
   "cell_type": "code",
   "execution_count": 20,
   "metadata": {},
   "outputs": [
    {
     "data": {
      "text/plain": [
       "'[Topic][Open] Open Discussion Monday — Anybody can post a general visualization question or start a fresh discussion!'"
      ]
     },
     "execution_count": 20,
     "metadata": {},
     "output_type": "execute_result"
    }
   ],
   "source": [
    "s.title"
   ]
  },
  {
   "cell_type": "code",
   "execution_count": 21,
   "metadata": {},
   "outputs": [
    {
     "data": {
      "text/plain": [
       "Redditor(name='AutoModerator')"
      ]
     },
     "execution_count": 21,
     "metadata": {},
     "output_type": "execute_result"
    }
   ],
   "source": [
    "s.author"
   ]
  },
  {
   "cell_type": "code",
   "execution_count": 22,
   "metadata": {},
   "outputs": [
    {
     "data": {
      "text/plain": [
       "'AutoModerator'"
      ]
     },
     "execution_count": 22,
     "metadata": {},
     "output_type": "execute_result"
    }
   ],
   "source": [
    "s.author.name"
   ]
  },
  {
   "cell_type": "code",
   "execution_count": 23,
   "metadata": {},
   "outputs": [],
   "source": [
    "c = s.comments.list()"
   ]
  },
  {
   "cell_type": "code",
   "execution_count": 24,
   "metadata": {},
   "outputs": [
    {
     "data": {
      "text/plain": [
       "21"
      ]
     },
     "execution_count": 24,
     "metadata": {},
     "output_type": "execute_result"
    }
   ],
   "source": [
    "len(c)"
   ]
  },
  {
   "cell_type": "code",
   "execution_count": 25,
   "metadata": {},
   "outputs": [
    {
     "data": {
      "text/plain": [
       "[]"
      ]
     },
     "execution_count": 25,
     "metadata": {},
     "output_type": "execute_result"
    }
   ],
   "source": [
    "s.comments.replace_more(limit=0)"
   ]
  },
  {
   "cell_type": "code",
   "execution_count": 26,
   "metadata": {},
   "outputs": [
    {
     "data": {
      "text/plain": [
       "21"
      ]
     },
     "execution_count": 26,
     "metadata": {},
     "output_type": "execute_result"
    }
   ],
   "source": [
    "c = s.comments.list()\n",
    "len(c)"
   ]
  },
  {
   "cell_type": "code",
   "execution_count": 27,
   "metadata": {},
   "outputs": [
    {
     "data": {
      "text/plain": [
       "Comment(id='ffqpm60')"
      ]
     },
     "execution_count": 27,
     "metadata": {},
     "output_type": "execute_result"
    }
   ],
   "source": [
    "c[0]"
   ]
  },
  {
   "cell_type": "code",
   "execution_count": 28,
   "metadata": {},
   "outputs": [
    {
     "data": {
      "text/plain": [
       "Redditor(name='endangered_upsurge')"
      ]
     },
     "execution_count": 28,
     "metadata": {},
     "output_type": "execute_result"
    }
   ],
   "source": [
    "c[0].author"
   ]
  },
  {
   "cell_type": "code",
   "execution_count": 29,
   "metadata": {},
   "outputs": [
    {
     "data": {
      "text/plain": [
       "'endangered_upsurge'"
      ]
     },
     "execution_count": 29,
     "metadata": {},
     "output_type": "execute_result"
    }
   ],
   "source": [
    "c[0].author.name"
   ]
  },
  {
   "cell_type": "code",
   "execution_count": 30,
   "metadata": {},
   "outputs": [
    {
     "data": {
      "text/plain": [
       "'I’m beginning an economic data project in school but have struggled to find downloadable data sets that contain historical data. What are some good websites/resources to find historical data whether it be monthly prices for goods, yearly population stats, or yearly data for common economic variables.'"
      ]
     },
     "execution_count": 30,
     "metadata": {},
     "output_type": "execute_result"
    }
   ],
   "source": [
    "c[0].body"
   ]
  },
  {
   "cell_type": "code",
   "execution_count": 31,
   "metadata": {},
   "outputs": [
    {
     "data": {
      "text/plain": [
       "1580169488.0"
      ]
     },
     "execution_count": 31,
     "metadata": {},
     "output_type": "execute_result"
    }
   ],
   "source": [
    "c[0].created"
   ]
  },
  {
   "cell_type": "code",
   "execution_count": 32,
   "metadata": {},
   "outputs": [],
   "source": [
    "df = pd.DataFrame({'author':x.author.name,'created':x.created,'text':x.body} for x in c if x.author)"
   ]
  },
  {
   "cell_type": "code",
   "execution_count": 33,
   "metadata": {},
   "outputs": [
    {
     "data": {
      "text/html": [
       "<div>\n",
       "<style scoped>\n",
       "    .dataframe tbody tr th:only-of-type {\n",
       "        vertical-align: middle;\n",
       "    }\n",
       "\n",
       "    .dataframe tbody tr th {\n",
       "        vertical-align: top;\n",
       "    }\n",
       "\n",
       "    .dataframe thead th {\n",
       "        text-align: right;\n",
       "    }\n",
       "</style>\n",
       "<table border=\"1\" class=\"dataframe\">\n",
       "  <thead>\n",
       "    <tr style=\"text-align: right;\">\n",
       "      <th></th>\n",
       "      <th>author</th>\n",
       "      <th>created</th>\n",
       "      <th>text</th>\n",
       "    </tr>\n",
       "  </thead>\n",
       "  <tbody>\n",
       "    <tr>\n",
       "      <th>0</th>\n",
       "      <td>endangered_upsurge</td>\n",
       "      <td>1.580169e+09</td>\n",
       "      <td>I’m beginning an economic data project in scho...</td>\n",
       "    </tr>\n",
       "    <tr>\n",
       "      <th>1</th>\n",
       "      <td>Deadmeat553</td>\n",
       "      <td>1.580310e+09</td>\n",
       "      <td>I'm interested in seeing a tree of all close c...</td>\n",
       "    </tr>\n",
       "    <tr>\n",
       "      <th>2</th>\n",
       "      <td>Snaaaaaaaaaake</td>\n",
       "      <td>1.580684e+09</td>\n",
       "      <td>Serious Question...  \\n\\n\\nHave you ever seen ...</td>\n",
       "    </tr>\n",
       "    <tr>\n",
       "      <th>3</th>\n",
       "      <td>kokishinkiba</td>\n",
       "      <td>1.580259e+09</td>\n",
       "      <td>Does anyone have a credible data for most supe...</td>\n",
       "    </tr>\n",
       "    <tr>\n",
       "      <th>4</th>\n",
       "      <td>YoungHamilton</td>\n",
       "      <td>1.580478e+09</td>\n",
       "      <td>Are there rules around posting the racing bar ...</td>\n",
       "    </tr>\n",
       "    <tr>\n",
       "      <th>5</th>\n",
       "      <td>codeyCode</td>\n",
       "      <td>1.580524e+09</td>\n",
       "      <td>What is the best graph to use for 3 variables ...</td>\n",
       "    </tr>\n",
       "    <tr>\n",
       "      <th>6</th>\n",
       "      <td>FuckRedditForSure</td>\n",
       "      <td>1.580735e+09</td>\n",
       "      <td>Anyone working with genetic algorithms and hum...</td>\n",
       "    </tr>\n",
       "    <tr>\n",
       "      <th>7</th>\n",
       "      <td>2DD4eva</td>\n",
       "      <td>1.580855e+09</td>\n",
       "      <td>Soccer. Soccer. Soccer. \\nPremier. MLS. Champi...</td>\n",
       "    </tr>\n",
       "    <tr>\n",
       "      <th>8</th>\n",
       "      <td>Wferguson11</td>\n",
       "      <td>1.580874e+09</td>\n",
       "      <td>Question: I am a teacher. Our school pushes da...</td>\n",
       "    </tr>\n",
       "    <tr>\n",
       "      <th>9</th>\n",
       "      <td>BigPawh</td>\n",
       "      <td>1.580899e+09</td>\n",
       "      <td>Edit: The answer is \"Sankey Diagram\"\\n\\nHello!...</td>\n",
       "    </tr>\n",
       "    <tr>\n",
       "      <th>10</th>\n",
       "      <td>2-Point-O</td>\n",
       "      <td>1.580988e+09</td>\n",
       "      <td>go fuck yourselves, oh, wait. y'all really stu...</td>\n",
       "    </tr>\n",
       "    <tr>\n",
       "      <th>11</th>\n",
       "      <td>Keezos</td>\n",
       "      <td>1.581009e+09</td>\n",
       "      <td>Hello, my question is a mix between Data Viz a...</td>\n",
       "    </tr>\n",
       "    <tr>\n",
       "      <th>12</th>\n",
       "      <td>jbaron3</td>\n",
       "      <td>1.581032e+09</td>\n",
       "      <td>I work for a City and the Clerk is interested ...</td>\n",
       "    </tr>\n",
       "    <tr>\n",
       "      <th>13</th>\n",
       "      <td>HAMMERPATRIOT</td>\n",
       "      <td>1.580259e+09</td>\n",
       "      <td>The Fred is the best source for a lot of this ...</td>\n",
       "    </tr>\n",
       "    <tr>\n",
       "      <th>14</th>\n",
       "      <td>Prof--G</td>\n",
       "      <td>1.580811e+09</td>\n",
       "      <td>Eurostat https://ec.europa.eu/eurostat/home?</td>\n",
       "    </tr>\n",
       "    <tr>\n",
       "      <th>15</th>\n",
       "      <td>HAMMERPATRIOT</td>\n",
       "      <td>1.580259e+09</td>\n",
       "      <td>The Fred is the best source for a lot of this ...</td>\n",
       "    </tr>\n",
       "    <tr>\n",
       "      <th>16</th>\n",
       "      <td>HAMMERPATRIOT</td>\n",
       "      <td>1.580259e+09</td>\n",
       "      <td>The Fred is the best source for a lot of this ...</td>\n",
       "    </tr>\n",
       "    <tr>\n",
       "      <th>17</th>\n",
       "      <td>Prof--G</td>\n",
       "      <td>1.580811e+09</td>\n",
       "      <td>Use color for the third dimension.</td>\n",
       "    </tr>\n",
       "    <tr>\n",
       "      <th>18</th>\n",
       "      <td>Prof--G</td>\n",
       "      <td>1.580811e+09</td>\n",
       "      <td>It sure what you are asking....\\n\\nTry Manhat...</td>\n",
       "    </tr>\n",
       "    <tr>\n",
       "      <th>19</th>\n",
       "      <td>Pecners</td>\n",
       "      <td>1.580891e+09</td>\n",
       "      <td>Really depends on the tools you’re using. You ...</td>\n",
       "    </tr>\n",
       "    <tr>\n",
       "      <th>20</th>\n",
       "      <td>ghost202</td>\n",
       "      <td>1.581054e+09</td>\n",
       "      <td>Hey, I actually kinda know this one!\\n\\nIt's a...</td>\n",
       "    </tr>\n",
       "  </tbody>\n",
       "</table>\n",
       "</div>"
      ],
      "text/plain": [
       "                author       created  \\\n",
       "0   endangered_upsurge  1.580169e+09   \n",
       "1          Deadmeat553  1.580310e+09   \n",
       "2       Snaaaaaaaaaake  1.580684e+09   \n",
       "3         kokishinkiba  1.580259e+09   \n",
       "4        YoungHamilton  1.580478e+09   \n",
       "5            codeyCode  1.580524e+09   \n",
       "6    FuckRedditForSure  1.580735e+09   \n",
       "7              2DD4eva  1.580855e+09   \n",
       "8          Wferguson11  1.580874e+09   \n",
       "9              BigPawh  1.580899e+09   \n",
       "10           2-Point-O  1.580988e+09   \n",
       "11              Keezos  1.581009e+09   \n",
       "12             jbaron3  1.581032e+09   \n",
       "13       HAMMERPATRIOT  1.580259e+09   \n",
       "14             Prof--G  1.580811e+09   \n",
       "15       HAMMERPATRIOT  1.580259e+09   \n",
       "16       HAMMERPATRIOT  1.580259e+09   \n",
       "17             Prof--G  1.580811e+09   \n",
       "18             Prof--G  1.580811e+09   \n",
       "19             Pecners  1.580891e+09   \n",
       "20            ghost202  1.581054e+09   \n",
       "\n",
       "                                                 text  \n",
       "0   I’m beginning an economic data project in scho...  \n",
       "1   I'm interested in seeing a tree of all close c...  \n",
       "2   Serious Question...  \\n\\n\\nHave you ever seen ...  \n",
       "3   Does anyone have a credible data for most supe...  \n",
       "4   Are there rules around posting the racing bar ...  \n",
       "5   What is the best graph to use for 3 variables ...  \n",
       "6   Anyone working with genetic algorithms and hum...  \n",
       "7   Soccer. Soccer. Soccer. \\nPremier. MLS. Champi...  \n",
       "8   Question: I am a teacher. Our school pushes da...  \n",
       "9   Edit: The answer is \"Sankey Diagram\"\\n\\nHello!...  \n",
       "10  go fuck yourselves, oh, wait. y'all really stu...  \n",
       "11  Hello, my question is a mix between Data Viz a...  \n",
       "12  I work for a City and the Clerk is interested ...  \n",
       "13  The Fred is the best source for a lot of this ...  \n",
       "14       Eurostat https://ec.europa.eu/eurostat/home?  \n",
       "15  The Fred is the best source for a lot of this ...  \n",
       "16  The Fred is the best source for a lot of this ...  \n",
       "17                 Use color for the third dimension.  \n",
       "18   It sure what you are asking....\\n\\nTry Manhat...  \n",
       "19  Really depends on the tools you’re using. You ...  \n",
       "20  Hey, I actually kinda know this one!\\n\\nIt's a...  "
      ]
     },
     "execution_count": 33,
     "metadata": {},
     "output_type": "execute_result"
    }
   ],
   "source": [
    "df"
   ]
  },
  {
   "cell_type": "code",
   "execution_count": 34,
   "metadata": {},
   "outputs": [],
   "source": [
    "df['created'] = pd.to_datetime(df['created'], unit='s')"
   ]
  },
  {
   "cell_type": "code",
   "execution_count": 35,
   "metadata": {},
   "outputs": [
    {
     "data": {
      "text/html": [
       "<div>\n",
       "<style scoped>\n",
       "    .dataframe tbody tr th:only-of-type {\n",
       "        vertical-align: middle;\n",
       "    }\n",
       "\n",
       "    .dataframe tbody tr th {\n",
       "        vertical-align: top;\n",
       "    }\n",
       "\n",
       "    .dataframe thead th {\n",
       "        text-align: right;\n",
       "    }\n",
       "</style>\n",
       "<table border=\"1\" class=\"dataframe\">\n",
       "  <thead>\n",
       "    <tr style=\"text-align: right;\">\n",
       "      <th></th>\n",
       "      <th>author</th>\n",
       "      <th>created</th>\n",
       "      <th>text</th>\n",
       "    </tr>\n",
       "  </thead>\n",
       "  <tbody>\n",
       "    <tr>\n",
       "      <th>0</th>\n",
       "      <td>endangered_upsurge</td>\n",
       "      <td>2020-01-27 23:58:08</td>\n",
       "      <td>I’m beginning an economic data project in scho...</td>\n",
       "    </tr>\n",
       "    <tr>\n",
       "      <th>1</th>\n",
       "      <td>Deadmeat553</td>\n",
       "      <td>2020-01-29 15:06:38</td>\n",
       "      <td>I'm interested in seeing a tree of all close c...</td>\n",
       "    </tr>\n",
       "    <tr>\n",
       "      <th>2</th>\n",
       "      <td>Snaaaaaaaaaake</td>\n",
       "      <td>2020-02-02 22:52:34</td>\n",
       "      <td>Serious Question...  \\n\\n\\nHave you ever seen ...</td>\n",
       "    </tr>\n",
       "    <tr>\n",
       "      <th>3</th>\n",
       "      <td>kokishinkiba</td>\n",
       "      <td>2020-01-29 00:56:22</td>\n",
       "      <td>Does anyone have a credible data for most supe...</td>\n",
       "    </tr>\n",
       "    <tr>\n",
       "      <th>4</th>\n",
       "      <td>YoungHamilton</td>\n",
       "      <td>2020-01-31 13:32:30</td>\n",
       "      <td>Are there rules around posting the racing bar ...</td>\n",
       "    </tr>\n",
       "    <tr>\n",
       "      <th>5</th>\n",
       "      <td>codeyCode</td>\n",
       "      <td>2020-02-01 02:33:09</td>\n",
       "      <td>What is the best graph to use for 3 variables ...</td>\n",
       "    </tr>\n",
       "    <tr>\n",
       "      <th>6</th>\n",
       "      <td>FuckRedditForSure</td>\n",
       "      <td>2020-02-03 12:57:02</td>\n",
       "      <td>Anyone working with genetic algorithms and hum...</td>\n",
       "    </tr>\n",
       "    <tr>\n",
       "      <th>7</th>\n",
       "      <td>2DD4eva</td>\n",
       "      <td>2020-02-04 22:24:31</td>\n",
       "      <td>Soccer. Soccer. Soccer. \\nPremier. MLS. Champi...</td>\n",
       "    </tr>\n",
       "    <tr>\n",
       "      <th>8</th>\n",
       "      <td>Wferguson11</td>\n",
       "      <td>2020-02-05 03:36:52</td>\n",
       "      <td>Question: I am a teacher. Our school pushes da...</td>\n",
       "    </tr>\n",
       "    <tr>\n",
       "      <th>9</th>\n",
       "      <td>BigPawh</td>\n",
       "      <td>2020-02-05 10:44:42</td>\n",
       "      <td>Edit: The answer is \"Sankey Diagram\"\\n\\nHello!...</td>\n",
       "    </tr>\n",
       "    <tr>\n",
       "      <th>10</th>\n",
       "      <td>2-Point-O</td>\n",
       "      <td>2020-02-06 11:25:00</td>\n",
       "      <td>go fuck yourselves, oh, wait. y'all really stu...</td>\n",
       "    </tr>\n",
       "    <tr>\n",
       "      <th>11</th>\n",
       "      <td>Keezos</td>\n",
       "      <td>2020-02-06 17:07:16</td>\n",
       "      <td>Hello, my question is a mix between Data Viz a...</td>\n",
       "    </tr>\n",
       "    <tr>\n",
       "      <th>12</th>\n",
       "      <td>jbaron3</td>\n",
       "      <td>2020-02-06 23:32:50</td>\n",
       "      <td>I work for a City and the Clerk is interested ...</td>\n",
       "    </tr>\n",
       "    <tr>\n",
       "      <th>13</th>\n",
       "      <td>HAMMERPATRIOT</td>\n",
       "      <td>2020-01-29 00:52:18</td>\n",
       "      <td>The Fred is the best source for a lot of this ...</td>\n",
       "    </tr>\n",
       "    <tr>\n",
       "      <th>14</th>\n",
       "      <td>Prof--G</td>\n",
       "      <td>2020-02-04 10:03:07</td>\n",
       "      <td>Eurostat https://ec.europa.eu/eurostat/home?</td>\n",
       "    </tr>\n",
       "    <tr>\n",
       "      <th>15</th>\n",
       "      <td>HAMMERPATRIOT</td>\n",
       "      <td>2020-01-29 00:52:24</td>\n",
       "      <td>The Fred is the best source for a lot of this ...</td>\n",
       "    </tr>\n",
       "    <tr>\n",
       "      <th>16</th>\n",
       "      <td>HAMMERPATRIOT</td>\n",
       "      <td>2020-01-29 00:52:40</td>\n",
       "      <td>The Fred is the best source for a lot of this ...</td>\n",
       "    </tr>\n",
       "    <tr>\n",
       "      <th>17</th>\n",
       "      <td>Prof--G</td>\n",
       "      <td>2020-02-04 10:04:05</td>\n",
       "      <td>Use color for the third dimension.</td>\n",
       "    </tr>\n",
       "    <tr>\n",
       "      <th>18</th>\n",
       "      <td>Prof--G</td>\n",
       "      <td>2020-02-04 10:08:11</td>\n",
       "      <td>It sure what you are asking....\\n\\nTry Manhat...</td>\n",
       "    </tr>\n",
       "    <tr>\n",
       "      <th>19</th>\n",
       "      <td>Pecners</td>\n",
       "      <td>2020-02-05 08:25:16</td>\n",
       "      <td>Really depends on the tools you’re using. You ...</td>\n",
       "    </tr>\n",
       "    <tr>\n",
       "      <th>20</th>\n",
       "      <td>ghost202</td>\n",
       "      <td>2020-02-07 05:39:07</td>\n",
       "      <td>Hey, I actually kinda know this one!\\n\\nIt's a...</td>\n",
       "    </tr>\n",
       "  </tbody>\n",
       "</table>\n",
       "</div>"
      ],
      "text/plain": [
       "                author             created  \\\n",
       "0   endangered_upsurge 2020-01-27 23:58:08   \n",
       "1          Deadmeat553 2020-01-29 15:06:38   \n",
       "2       Snaaaaaaaaaake 2020-02-02 22:52:34   \n",
       "3         kokishinkiba 2020-01-29 00:56:22   \n",
       "4        YoungHamilton 2020-01-31 13:32:30   \n",
       "5            codeyCode 2020-02-01 02:33:09   \n",
       "6    FuckRedditForSure 2020-02-03 12:57:02   \n",
       "7              2DD4eva 2020-02-04 22:24:31   \n",
       "8          Wferguson11 2020-02-05 03:36:52   \n",
       "9              BigPawh 2020-02-05 10:44:42   \n",
       "10           2-Point-O 2020-02-06 11:25:00   \n",
       "11              Keezos 2020-02-06 17:07:16   \n",
       "12             jbaron3 2020-02-06 23:32:50   \n",
       "13       HAMMERPATRIOT 2020-01-29 00:52:18   \n",
       "14             Prof--G 2020-02-04 10:03:07   \n",
       "15       HAMMERPATRIOT 2020-01-29 00:52:24   \n",
       "16       HAMMERPATRIOT 2020-01-29 00:52:40   \n",
       "17             Prof--G 2020-02-04 10:04:05   \n",
       "18             Prof--G 2020-02-04 10:08:11   \n",
       "19             Pecners 2020-02-05 08:25:16   \n",
       "20            ghost202 2020-02-07 05:39:07   \n",
       "\n",
       "                                                 text  \n",
       "0   I’m beginning an economic data project in scho...  \n",
       "1   I'm interested in seeing a tree of all close c...  \n",
       "2   Serious Question...  \\n\\n\\nHave you ever seen ...  \n",
       "3   Does anyone have a credible data for most supe...  \n",
       "4   Are there rules around posting the racing bar ...  \n",
       "5   What is the best graph to use for 3 variables ...  \n",
       "6   Anyone working with genetic algorithms and hum...  \n",
       "7   Soccer. Soccer. Soccer. \\nPremier. MLS. Champi...  \n",
       "8   Question: I am a teacher. Our school pushes da...  \n",
       "9   Edit: The answer is \"Sankey Diagram\"\\n\\nHello!...  \n",
       "10  go fuck yourselves, oh, wait. y'all really stu...  \n",
       "11  Hello, my question is a mix between Data Viz a...  \n",
       "12  I work for a City and the Clerk is interested ...  \n",
       "13  The Fred is the best source for a lot of this ...  \n",
       "14       Eurostat https://ec.europa.eu/eurostat/home?  \n",
       "15  The Fred is the best source for a lot of this ...  \n",
       "16  The Fred is the best source for a lot of this ...  \n",
       "17                 Use color for the third dimension.  \n",
       "18   It sure what you are asking....\\n\\nTry Manhat...  \n",
       "19  Really depends on the tools you’re using. You ...  \n",
       "20  Hey, I actually kinda know this one!\\n\\nIt's a...  "
      ]
     },
     "execution_count": 35,
     "metadata": {},
     "output_type": "execute_result"
    }
   ],
   "source": [
    "df"
   ]
  },
  {
   "cell_type": "code",
   "execution_count": 37,
   "metadata": {},
   "outputs": [
    {
     "name": "stdout",
     "output_type": "stream",
     "text": [
      "CPU times: user 12.5 s, sys: 129 ms, total: 12.7 s\n",
      "Wall time: 6min 2s\n"
     ]
    }
   ],
   "source": [
    "%%time\n",
    "\n",
    "comments = [ ]\n",
    "for s in beauty.new(limit=5000):\n",
    "    s.comments.replace_more(limit=0)\n",
    "    comments.extend({'author':x.author.name,'created':x.created,'text':x.body} \n",
    "                    for x in s.comments.list() if x.author)\n",
    "df = pd.DataFrame(comments)"
   ]
  },
  {
   "cell_type": "code",
   "execution_count": 39,
   "metadata": {},
   "outputs": [
    {
     "data": {
      "text/plain": [
       "author\n",
       "tipfom                  162\n",
       "VegeoPro                 81\n",
       "Z3ttrick                 77\n",
       "TA201805091716           74\n",
       "goldleader71             73\n",
       "                       ... \n",
       "cxa5                      1\n",
       "cwbloom                   1\n",
       "cvvand                    1\n",
       "cuvar                     1\n",
       "--Reddit--Username--      1\n",
       "Name: text, Length: 20018, dtype: int64"
      ]
     },
     "execution_count": 39,
     "metadata": {},
     "output_type": "execute_result"
    }
   ],
   "source": [
    "df.groupby('author')['text'].count().sort_values(ascending=False)"
   ]
  },
  {
   "cell_type": "code",
   "execution_count": 40,
   "metadata": {},
   "outputs": [],
   "source": [
    "from nltk.tokenize import TweetTokenizer\n",
    "T = TweetTokenizer(preserve_case=False, reduce_len=True, strip_handles=True)"
   ]
  },
  {
   "cell_type": "code",
   "execution_count": 41,
   "metadata": {},
   "outputs": [],
   "source": [
    "df['tokens'] = df['text'].apply(T.tokenize)"
   ]
  },
  {
   "cell_type": "code",
   "execution_count": 42,
   "metadata": {},
   "outputs": [],
   "source": [
    "from cytoolz import concat"
   ]
  },
  {
   "cell_type": "code",
   "execution_count": 43,
   "metadata": {},
   "outputs": [],
   "source": [
    "subset = df['author'] == 'VegeoPro'\n",
    "freq = pd.DataFrame({'all':Counter(concat(df['tokens'])),\n",
    "                     'user':Counter(concat(df[subset]['tokens']))})"
   ]
  },
  {
   "cell_type": "code",
   "execution_count": 44,
   "metadata": {},
   "outputs": [],
   "source": [
    "freq['pmi'] = np.log2( ( freq['user'] * np.sum(freq['all']) ) /\n",
    "                       ( freq['all'] * np.sum(freq['user']) ) )"
   ]
  },
  {
   "cell_type": "code",
   "execution_count": 45,
   "metadata": {},
   "outputs": [
    {
     "data": {
      "text/html": [
       "<div>\n",
       "<style scoped>\n",
       "    .dataframe tbody tr th:only-of-type {\n",
       "        vertical-align: middle;\n",
       "    }\n",
       "\n",
       "    .dataframe tbody tr th {\n",
       "        vertical-align: top;\n",
       "    }\n",
       "\n",
       "    .dataframe thead th {\n",
       "        text-align: right;\n",
       "    }\n",
       "</style>\n",
       "<table border=\"1\" class=\"dataframe\">\n",
       "  <thead>\n",
       "    <tr style=\"text-align: right;\">\n",
       "      <th></th>\n",
       "      <th>all</th>\n",
       "      <th>user</th>\n",
       "      <th>pmi</th>\n",
       "    </tr>\n",
       "  </thead>\n",
       "  <tbody>\n",
       "    <tr>\n",
       "      <th>the</th>\n",
       "      <td>54365</td>\n",
       "      <td>144.0</td>\n",
       "      <td>0.523189</td>\n",
       "    </tr>\n",
       "    <tr>\n",
       "      <th>.</th>\n",
       "      <td>60903</td>\n",
       "      <td>107.0</td>\n",
       "      <td>-0.069104</td>\n",
       "    </tr>\n",
       "  </tbody>\n",
       "</table>\n",
       "</div>"
      ],
      "text/plain": [
       "       all   user       pmi\n",
       "the  54365  144.0  0.523189\n",
       ".    60903  107.0 -0.069104"
      ]
     },
     "execution_count": 45,
     "metadata": {},
     "output_type": "execute_result"
    }
   ],
   "source": [
    "freq[freq['user']>100].sort_values('pmi', ascending=False).head(20)"
   ]
  },
  {
   "cell_type": "code",
   "execution_count": 46,
   "metadata": {},
   "outputs": [],
   "source": [
    "subset = df['author'] == 'Z3ttrick'\n",
    "freq = pd.DataFrame({'all':Counter(concat(df['tokens'])),\n",
    "                     'user':Counter(concat(df[subset]['tokens']))})"
   ]
  },
  {
   "cell_type": "code",
   "execution_count": 47,
   "metadata": {},
   "outputs": [],
   "source": [
    "freq['pmi'] = np.log2( ( freq['user'] * np.sum(freq['all']) ) /\n",
    "                       ( freq['all'] * np.sum(freq['user']) ) )"
   ]
  },
  {
   "cell_type": "code",
   "execution_count": 48,
   "metadata": {},
   "outputs": [
    {
     "data": {
      "text/html": [
       "<div>\n",
       "<style scoped>\n",
       "    .dataframe tbody tr th:only-of-type {\n",
       "        vertical-align: middle;\n",
       "    }\n",
       "\n",
       "    .dataframe tbody tr th {\n",
       "        vertical-align: top;\n",
       "    }\n",
       "\n",
       "    .dataframe thead th {\n",
       "        text-align: right;\n",
       "    }\n",
       "</style>\n",
       "<table border=\"1\" class=\"dataframe\">\n",
       "  <thead>\n",
       "    <tr style=\"text-align: right;\">\n",
       "      <th></th>\n",
       "      <th>all</th>\n",
       "      <th>user</th>\n",
       "      <th>pmi</th>\n",
       "    </tr>\n",
       "  </thead>\n",
       "  <tbody>\n",
       "    <tr>\n",
       "      <th>data</th>\n",
       "      <td>3785</td>\n",
       "      <td>36.0</td>\n",
       "      <td>2.255131</td>\n",
       "    </tr>\n",
       "    <tr>\n",
       "      <th>!</th>\n",
       "      <td>4047</td>\n",
       "      <td>30.0</td>\n",
       "      <td>1.895537</td>\n",
       "    </tr>\n",
       "    <tr>\n",
       "      <th>)</th>\n",
       "      <td>8674</td>\n",
       "      <td>34.0</td>\n",
       "      <td>0.976264</td>\n",
       "    </tr>\n",
       "    <tr>\n",
       "      <th>(</th>\n",
       "      <td>8691</td>\n",
       "      <td>34.0</td>\n",
       "      <td>0.973440</td>\n",
       "    </tr>\n",
       "    <tr>\n",
       "      <th>for</th>\n",
       "      <td>10585</td>\n",
       "      <td>36.0</td>\n",
       "      <td>0.771475</td>\n",
       "    </tr>\n",
       "    <tr>\n",
       "      <th>i</th>\n",
       "      <td>19836</td>\n",
       "      <td>62.0</td>\n",
       "      <td>0.649646</td>\n",
       "    </tr>\n",
       "    <tr>\n",
       "      <th>and</th>\n",
       "      <td>22262</td>\n",
       "      <td>60.0</td>\n",
       "      <td>0.435878</td>\n",
       "    </tr>\n",
       "    <tr>\n",
       "      <th>the</th>\n",
       "      <td>54365</td>\n",
       "      <td>127.0</td>\n",
       "      <td>0.229578</td>\n",
       "    </tr>\n",
       "    <tr>\n",
       "      <th>to</th>\n",
       "      <td>27924</td>\n",
       "      <td>61.0</td>\n",
       "      <td>0.132803</td>\n",
       "    </tr>\n",
       "    <tr>\n",
       "      <th>,</th>\n",
       "      <td>39771</td>\n",
       "      <td>79.0</td>\n",
       "      <td>-0.004365</td>\n",
       "    </tr>\n",
       "    <tr>\n",
       "      <th>.</th>\n",
       "      <td>60903</td>\n",
       "      <td>117.0</td>\n",
       "      <td>-0.052578</td>\n",
       "    </tr>\n",
       "    <tr>\n",
       "      <th>it</th>\n",
       "      <td>16172</td>\n",
       "      <td>27.0</td>\n",
       "      <td>-0.255040</td>\n",
       "    </tr>\n",
       "    <tr>\n",
       "      <th>in</th>\n",
       "      <td>17771</td>\n",
       "      <td>29.0</td>\n",
       "      <td>-0.287973</td>\n",
       "    </tr>\n",
       "    <tr>\n",
       "      <th>a</th>\n",
       "      <td>25661</td>\n",
       "      <td>34.0</td>\n",
       "      <td>-0.588544</td>\n",
       "    </tr>\n",
       "    <tr>\n",
       "      <th>of</th>\n",
       "      <td>23797</td>\n",
       "      <td>27.0</td>\n",
       "      <td>-0.812321</td>\n",
       "    </tr>\n",
       "  </tbody>\n",
       "</table>\n",
       "</div>"
      ],
      "text/plain": [
       "        all   user       pmi\n",
       "data   3785   36.0  2.255131\n",
       "!      4047   30.0  1.895537\n",
       ")      8674   34.0  0.976264\n",
       "(      8691   34.0  0.973440\n",
       "for   10585   36.0  0.771475\n",
       "i     19836   62.0  0.649646\n",
       "and   22262   60.0  0.435878\n",
       "the   54365  127.0  0.229578\n",
       "to    27924   61.0  0.132803\n",
       ",     39771   79.0 -0.004365\n",
       ".     60903  117.0 -0.052578\n",
       "it    16172   27.0 -0.255040\n",
       "in    17771   29.0 -0.287973\n",
       "a     25661   34.0 -0.588544\n",
       "of    23797   27.0 -0.812321"
      ]
     },
     "execution_count": 48,
     "metadata": {},
     "output_type": "execute_result"
    }
   ],
   "source": [
    "freq[freq['user']>25].sort_values('pmi', ascending=False).head(20)"
   ]
  }
 ],
 "metadata": {
  "kernelspec": {
   "display_name": "Python 3",
   "language": "python",
   "name": "python3"
  },
  "language_info": {
   "codemirror_mode": {
    "name": "ipython",
    "version": 3
   },
   "file_extension": ".py",
   "mimetype": "text/x-python",
   "name": "python",
   "nbconvert_exporter": "python",
   "pygments_lexer": "ipython3",
   "version": "3.6.9"
  }
 },
 "nbformat": 4,
 "nbformat_minor": 2
}
